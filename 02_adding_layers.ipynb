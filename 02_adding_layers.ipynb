{
 "cells": [
  {
   "cell_type": "markdown",
   "id": "0a34bece",
   "metadata": {},
   "source": [
    "# Chapter 02: Adding Layers"
   ]
  },
  {
   "cell_type": "markdown",
   "id": "b9509375",
   "metadata": {},
   "source": [
    "![Input layer with 4 features into a hidden layer with 3 neurons](images/image-05.png \"Input layer with 4 features into a hidden layer with 3 neurons\")"
   ]
  },
  {
   "cell_type": "code",
   "execution_count": 1,
   "id": "aa296d61",
   "metadata": {},
   "outputs": [
    {
     "name": "stdout",
     "output_type": "stream",
     "text": [
      "layer1_outputs: \n",
      "[[ 4.8    1.21   2.385]\n",
      " [ 8.9   -1.81   0.2  ]\n",
      " [ 1.41   1.051  0.026]]\n",
      "layer2_outputs: \n",
      "[[ 0.5031  -1.04185 -2.03875]\n",
      " [ 0.2434  -2.7332  -5.7633 ]\n",
      " [-0.99314  1.41254 -0.35655]]\n"
     ]
    }
   ],
   "source": [
    "import numpy as np\n",
    "\n",
    "inputs = [\n",
    "    [1.0, 2.0, 3.0, 2.5],\n",
    "    [2.0, 5.0, -1.0, 2.0],\n",
    "    [-1.5, 2.7, 3.3, -0.8],\n",
    "]\n",
    "weights_1 = [\n",
    "    [0.2, 0.8, -0.5, 1.0],\n",
    "    [0.5, -0.91, 0.26, -0.5],\n",
    "    [-0.26, -0.27, 0.17, 0.87],\n",
    "]\n",
    "biases_1 = [2.0, 3.0, 0.5]\n",
    "\n",
    "layer1_outputs = np.dot(inputs, np.array(weights_1).T) + biases_1\n",
    "print(f\"layer1_outputs: \\n{layer1_outputs}\")\n",
    "\n",
    "# Add one more layer\n",
    "weights_2 = [\n",
    "    [0.1, -0.14, 0.5],\n",
    "    [-0.5, 0.12, -0.33],\n",
    "    [-0.44, 0.73, -0.13],\n",
    "]\n",
    "biases_2 = [-1.0, 2.0, -0.5]\n",
    "\n",
    "layer2_outputs = np.dot(layer1_outputs, np.array(weights_2).T) + biases_2\n",
    "print(f\"layer2_outputs: \\n{layer2_outputs}\")"
   ]
  },
  {
   "cell_type": "markdown",
   "id": "12082889",
   "metadata": {},
   "source": [
    "![4 features input into 2 hidden layers of 3 neurons each](images/image-06.png \"4 features input into 2 hidden layers of 3 neurons each\")"
   ]
  }
 ],
 "metadata": {
  "kernelspec": {
   "display_name": "dlfw_env38",
   "language": "python",
   "name": "dlfw_env38"
  },
  "language_info": {
   "codemirror_mode": {
    "name": "ipython",
    "version": 3
   },
   "file_extension": ".py",
   "mimetype": "text/x-python",
   "name": "python",
   "nbconvert_exporter": "python",
   "pygments_lexer": "ipython3",
   "version": "3.8.10"
  }
 },
 "nbformat": 4,
 "nbformat_minor": 5
}
