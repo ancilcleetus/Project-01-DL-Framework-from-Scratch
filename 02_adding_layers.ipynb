{
 "cells": [
  {
   "cell_type": "markdown",
   "id": "2df1e21b",
   "metadata": {},
   "source": [
    "# Chapter 02: Adding Layers"
   ]
  },
  {
   "cell_type": "code",
   "execution_count": null,
   "id": "c4994d01",
   "metadata": {},
   "outputs": [],
   "source": []
  }
 ],
 "metadata": {
  "kernelspec": {
   "display_name": "dlfw_env38",
   "language": "python",
   "name": "dlfw_env38"
  },
  "language_info": {
   "codemirror_mode": {
    "name": "ipython",
    "version": 3
   },
   "file_extension": ".py",
   "mimetype": "text/x-python",
   "name": "python",
   "nbconvert_exporter": "python",
   "pygments_lexer": "ipython3",
   "version": "3.8.10"
  }
 },
 "nbformat": 4,
 "nbformat_minor": 5
}
