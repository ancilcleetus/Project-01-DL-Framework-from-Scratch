{
 "cells": [
  {
   "cell_type": "markdown",
   "id": "fd4714ec",
   "metadata": {},
   "source": [
    "# Chapter 01: Coding Our First Neurons"
   ]
  },
  {
   "cell_type": "markdown",
   "id": "6c93a3f5",
   "metadata": {},
   "source": [
    "## A Single Neuron"
   ]
  },
  {
   "cell_type": "code",
   "execution_count": 1,
   "id": "f9b24a73",
   "metadata": {},
   "outputs": [
    {
     "name": "stdout",
     "output_type": "stream",
     "text": [
      "3.8\n"
     ]
    }
   ],
   "source": [
    "# A single neuron with 3 inputs\n",
    "# For each input, there is an associated weight\n",
    "# For each neuron, there is one bias\n",
    "inputs = [1, 2, 3]\n",
    "weights = [0.2, 0.9, -0.5]\n",
    "bias = 3.3\n",
    "\n",
    "# Output is the sum of weighted sum of inputs & bias\n",
    "output = inputs[0]*weights[0] + inputs[1]*weights[1] + inputs[2]*weights[2] + bias\n",
    "print(output)"
   ]
  },
  {
   "cell_type": "markdown",
   "id": "743bd4be",
   "metadata": {},
   "source": [
    "## A Layer of Neurons"
   ]
  },
  {
   "cell_type": "code",
   "execution_count": 2,
   "id": "db05c9d2",
   "metadata": {},
   "outputs": [
    {
     "name": "stdout",
     "output_type": "stream",
     "text": [
      "[4.8, 1.21, 2.385]\n"
     ]
    }
   ],
   "source": [
    "# A Layer of 3 neurons with 4 inputs\n",
    "# Each neuron has a set of weights associated with the set of inputs & one bias\n",
    "inputs = [1, 2, 3, 2.5]\n",
    "\n",
    "weights1 = [0.2, 0.8, -0.5, 1]\n",
    "weights2 = [0.5, -0.91, 0.26, -0.5]\n",
    "weights3 = [-0.26, -0.27, 0.17, 0.87]\n",
    "\n",
    "bias1 = 2\n",
    "bias2 = 3\n",
    "bias3 = 0.5\n",
    "\n",
    "outputs = [\n",
    "    # Neuron 1:\n",
    "    inputs[0]*weights1[0] +\n",
    "    inputs[1]*weights1[1] +\n",
    "    inputs[2]*weights1[2] +\n",
    "    inputs[3]*weights1[3] + bias1,\n",
    "    \n",
    "    # Neuron 2:\n",
    "    inputs[0]*weights2[0] +\n",
    "    inputs[1]*weights2[1] +\n",
    "    inputs[2]*weights2[2] +\n",
    "    inputs[3]*weights2[3] + bias2,\n",
    "    \n",
    "    # Neuron 3:\n",
    "    inputs[0]*weights3[0] +\n",
    "    inputs[1]*weights3[1] +\n",
    "    inputs[2]*weights3[2] +\n",
    "    inputs[3]*weights3[3] + bias3,\n",
    "]\n",
    "\n",
    "print(outputs)"
   ]
  },
  {
   "cell_type": "code",
   "execution_count": 3,
   "id": "ca27e983",
   "metadata": {},
   "outputs": [
    {
     "name": "stdout",
     "output_type": "stream",
     "text": [
      "[4.8, 1.21, 2.385]\n"
     ]
    }
   ],
   "source": [
    "# A Layer of 3 neurons with 4 inputs\n",
    "# Each neuron has a set of weights associated with the set of inputs & one bias\n",
    "# Changed the code to use loops instead of hardcoded operations\n",
    "inputs = [1, 2, 3, 2.5]\n",
    "weights = [\n",
    "    [0.2, 0.8, -0.5, 1],\n",
    "    [0.5, -0.91, 0.26, -0.5],\n",
    "    [-0.26, -0.27, 0.17, 0.87],\n",
    "]\n",
    "biases = [2, 3, 0.5]\n",
    "\n",
    "layer_outputs = []\n",
    "\n",
    "for neuron_weights, neuron_bias in zip(weights, biases):\n",
    "    neuron_output = 0\n",
    "    # Add weighted inputs\n",
    "    for input_, weight in zip(inputs, neuron_weights):\n",
    "        neuron_output += input_ * weight\n",
    "    # Add bias\n",
    "    neuron_output += neuron_bias\n",
    "    layer_outputs.append(neuron_output)\n",
    "    \n",
    "print(layer_outputs)"
   ]
  },
  {
   "cell_type": "markdown",
   "id": "6e11a787",
   "metadata": {},
   "source": [
    "## Tensors, Arrays and Vectors"
   ]
  },
  {
   "cell_type": "code",
   "execution_count": 4,
   "id": "e5bb067b",
   "metadata": {},
   "outputs": [
    {
     "name": "stdout",
     "output_type": "stream",
     "text": [
      "Shape of l: (4,)\n"
     ]
    }
   ],
   "source": [
    "import numpy as np\n",
    "\n",
    "# list\n",
    "# type = 1D Array, Vector\n",
    "l = [1, 5, 6, 2]\n",
    "print(f\"Shape of l: {np.shape(l)}\")"
   ]
  },
  {
   "cell_type": "code",
   "execution_count": 5,
   "id": "82f29387",
   "metadata": {},
   "outputs": [
    {
     "name": "stdout",
     "output_type": "stream",
     "text": [
      "Shape of lol: (2, 4)\n"
     ]
    }
   ],
   "source": [
    "# list of lists\n",
    "# type = 2D Array, Matrix\n",
    "lol = [[1, 5, 6, 2],\n",
    "       [3, 2, 1, 3]]\n",
    "print(f\"Shape of lol: {np.shape(lol)}\")"
   ]
  },
  {
   "cell_type": "code",
   "execution_count": 6,
   "id": "a0429013",
   "metadata": {},
   "outputs": [
    {
     "name": "stdout",
     "output_type": "stream",
     "text": [
      "Shape of lolol: (3, 2, 4)\n"
     ]
    }
   ],
   "source": [
    "# list of list of lists\n",
    "# type = 3D Array\n",
    "lolol = [[[1, 5, 6, 2],\n",
    "          [3, 2, 1, 3]],\n",
    "         [[5, 2, 1, 2],\n",
    "          [6, 4, 8, 4]],\n",
    "         [[2, 8, 5, 3],\n",
    "          [1, 1, 9, 4]]\n",
    "        ]\n",
    "print(f\"Shape of lolol: {np.shape(lolol)}\")"
   ]
  },
  {
   "cell_type": "markdown",
   "id": "f68432ff",
   "metadata": {},
   "source": [
    "## Dot Product and Vector Addition"
   ]
  },
  {
   "cell_type": "code",
   "execution_count": 7,
   "id": "51798f20",
   "metadata": {},
   "outputs": [
    {
     "name": "stdout",
     "output_type": "stream",
     "text": [
      "20\n"
     ]
    }
   ],
   "source": [
    "# vectors\n",
    "a = [1, 2, 3]\n",
    "b = [2, 3, 4]\n",
    "\n",
    "dot_product = a[0]*b[0] + a[1]*b[1] + a[2]*b[2]\n",
    "print(dot_product)"
   ]
  },
  {
   "cell_type": "markdown",
   "id": "35b1368d",
   "metadata": {},
   "source": [
    "## A Single Neuron with NumPy"
   ]
  },
  {
   "cell_type": "code",
   "execution_count": 8,
   "id": "fc53ebb1",
   "metadata": {},
   "outputs": [
    {
     "name": "stdout",
     "output_type": "stream",
     "text": [
      "4.8\n"
     ]
    }
   ],
   "source": [
    "import numpy as np\n",
    "\n",
    "inputs = [1.0, 2.0, 3.0, 2.5]\n",
    "weights = [0.2, 0.8, -0.5, 1.0]\n",
    "bias = 2.0\n",
    "\n",
    "output = np.dot(weights, inputs) + bias\n",
    "print(output)"
   ]
  },
  {
   "cell_type": "markdown",
   "id": "69f8907d",
   "metadata": {},
   "source": [
    "## A Layer of Neurons with NumPy"
   ]
  },
  {
   "cell_type": "code",
   "execution_count": 9,
   "id": "6a3c8e6d",
   "metadata": {},
   "outputs": [
    {
     "name": "stdout",
     "output_type": "stream",
     "text": [
      "[4.8   1.21  2.385]\n"
     ]
    }
   ],
   "source": [
    "import numpy as np\n",
    "\n",
    "inputs = [1.0, 2.0, 3.0, 2.5]\n",
    "weights = [\n",
    "    [0.2, 0.8, -0.5, 1],\n",
    "    [0.5, -0.91, 0.26, -0.5],\n",
    "    [-0.26, -0.27, 0.17, 0.87],\n",
    "]\n",
    "biases = [2.0, 3.0, 0.5]\n",
    "\n",
    "# NB: matrix should come first as argument for np.dot()\n",
    "layer_outputs = np.dot(weights, inputs) + biases\n",
    "print(layer_outputs)"
   ]
  },
  {
   "cell_type": "markdown",
   "id": "f1b21ac9",
   "metadata": {},
   "source": [
    "## A Batch of Data"
   ]
  },
  {
   "cell_type": "code",
   "execution_count": 10,
   "id": "b81e60b6",
   "metadata": {},
   "outputs": [
    {
     "name": "stdout",
     "output_type": "stream",
     "text": [
      "Shape of sample: (4,)\n"
     ]
    }
   ],
   "source": [
    "import numpy as np\n",
    "\n",
    "# Input Data -> Sample\n",
    "# type = 1D Array, Vector\n",
    "sample = [1, 5, 6, 2]\n",
    "print(f\"Shape of sample: {np.shape(sample)}\")"
   ]
  },
  {
   "cell_type": "code",
   "execution_count": 11,
   "id": "7c4b992d",
   "metadata": {},
   "outputs": [
    {
     "name": "stdout",
     "output_type": "stream",
     "text": [
      "Shape of batch: (8, 4)\n"
     ]
    }
   ],
   "source": [
    "# Input Data -> Batch\n",
    "# type = 2D Array, Matrix\n",
    "batch = [\n",
    "    [1, 5, 6, 2],\n",
    "    [3, 2, 1, 3],\n",
    "    [5, 2, 1, 2],\n",
    "    [6, 4, 8, 4],\n",
    "    [2, 8, 5, 3],\n",
    "    [1, 1, 9, 4],\n",
    "    [6, 6, 0, 4],\n",
    "    [8, 7, 6, 4],\n",
    "]\n",
    "print(f\"Shape of batch: {np.shape(batch)}\")"
   ]
  },
  {
   "cell_type": "markdown",
   "id": "df1729a3",
   "metadata": {},
   "source": [
    "## Matrix Product"
   ]
  },
  {
   "cell_type": "markdown",
   "id": "324025a8",
   "metadata": {},
   "source": [
    "#### The matrix product is an operation in which we have 2 matrices, and we are performing dot products of all combinations of rows from the first matrix and the columns of the 2nd matrix, resulting in a matrix of those atomic dot products.\n",
    "\n",
    "#### In the case of Neural Networks, two matrices are Matrix of inputs (input data as a batch) & Matrix of weights."
   ]
  },
  {
   "cell_type": "markdown",
   "id": "8678c474",
   "metadata": {},
   "source": [
    "## Transposition for the Matrix Product"
   ]
  },
  {
   "cell_type": "markdown",
   "id": "a1a217dd",
   "metadata": {},
   "source": [
    "#### NumPy does not have a dedicated method to perform Matrix Product. Both Dot Product and Matrix Product are implemented in a single method: `np.dot()`.\n",
    "\n",
    "#### A dot product of two vectors equals the matrix product of a row and a column vector (row and column vectors are matrices with one dimension = 1. We take first vector and convert it into row vector. In order to obtain column vector, we use Transposition after converting 2nd vector to row vector. The output of Matrix Product will be a matrix containing single value i.e. 1 x 1 matrix.\n",
    "\n",
    "$\\overrightarrow{a} \\cdot \\overrightarrow{b} = a b^T$\n",
    "\n",
    "#### Matrix Product of two arrays will be a Matrix of dot products of all combinations of row and column vectors.\n"
   ]
  },
  {
   "cell_type": "code",
   "execution_count": 12,
   "id": "576a862c",
   "metadata": {},
   "outputs": [
    {
     "name": "stdout",
     "output_type": "stream",
     "text": [
      "[[1 2 3 4]]\n",
      "(1, 4)\n",
      "[[1 2 3 4]]\n",
      "(1, 4)\n"
     ]
    }
   ],
   "source": [
    "import numpy as np\n",
    "\n",
    "# Create row vector from list\n",
    "# A row vector is a matrix with 1 row & n columns i.e. an array of shape (1, n)\n",
    "# To transform a list into a matrix containing a single row\n",
    "# (perform an equivalent operation of turning a vector into row vector),\n",
    "\n",
    "# Method 1: put list inside brackets & convert to numpy array\n",
    "a = [1, 2, 3, 4]\n",
    "row_vector = np.array([a])\n",
    "print(row_vector)\n",
    "print(row_vector.shape)\n",
    "\n",
    "# Method 2: put list inside brackets & convert to numpy array\n",
    "a = [1, 2, 3, 4]\n",
    "row_vector = np.expand_dims(np.array(a), axis=0)\n",
    "print(row_vector)\n",
    "print(row_vector.shape)"
   ]
  },
  {
   "cell_type": "code",
   "execution_count": 13,
   "id": "44e52119",
   "metadata": {},
   "outputs": [
    {
     "name": "stdout",
     "output_type": "stream",
     "text": [
      "[[1]\n",
      " [2]\n",
      " [3]\n",
      " [4]]\n",
      "(4, 1)\n",
      "[[1]\n",
      " [2]\n",
      " [3]\n",
      " [4]]\n",
      "(4, 1)\n"
     ]
    }
   ],
   "source": [
    "# Create column vector from list\n",
    "# A column vector is a matrix with n rows & 1 column i.e. an array of shape (n, 1)\n",
    "# To transform a list into a matrix containing a single column\n",
    "# (perform an equivalent operation of turning a vector into column vector),\n",
    "\n",
    "# Method 1: put list inside brackets, convert to numpy array & perform Transposition\n",
    "b = [1, 2, 3, 4]\n",
    "column_vector = np.array([b]).T\n",
    "print(column_vector)\n",
    "print(column_vector.shape)\n",
    "\n",
    "# Method 2: put list inside brackets, convert to numpy array & perform Transposition\n",
    "b = [1, 2, 3, 4]\n",
    "column_vector = np.expand_dims(np.array(b), axis=1)\n",
    "print(column_vector)\n",
    "print(column_vector.shape)"
   ]
  },
  {
   "cell_type": "code",
   "execution_count": 14,
   "id": "6d730c59",
   "metadata": {},
   "outputs": [
    {
     "data": {
      "text/plain": [
       "array([[50]])"
      ]
     },
     "execution_count": 14,
     "metadata": {},
     "output_type": "execute_result"
    }
   ],
   "source": [
    "a = [1, 2, 3, 4]\n",
    "b = [3, 4, 5, 6]\n",
    "\n",
    "a = np.array([a])\n",
    "b = np.array([b]).T\n",
    "\n",
    "np.dot(a, b)"
   ]
  }
 ],
 "metadata": {
  "kernelspec": {
   "display_name": "dlfw_env38",
   "language": "python",
   "name": "dlfw_env38"
  },
  "language_info": {
   "codemirror_mode": {
    "name": "ipython",
    "version": 3
   },
   "file_extension": ".py",
   "mimetype": "text/x-python",
   "name": "python",
   "nbconvert_exporter": "python",
   "pygments_lexer": "ipython3",
   "version": "3.8.10"
  }
 },
 "nbformat": 4,
 "nbformat_minor": 5
}
