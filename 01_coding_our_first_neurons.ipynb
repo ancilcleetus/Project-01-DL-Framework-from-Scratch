{
 "cells": [
  {
   "cell_type": "markdown",
   "id": "f36aa13b",
   "metadata": {},
   "source": [
    "## A Single Neuron"
   ]
  },
  {
   "cell_type": "code",
   "execution_count": 1,
   "id": "808f4c9c",
   "metadata": {},
   "outputs": [
    {
     "name": "stdout",
     "output_type": "stream",
     "text": [
      "3.8\n"
     ]
    }
   ],
   "source": [
    "# A single neuron with 3 inputs\n",
    "# For each input, there is an associated weight\n",
    "# For each neuron, there is one bias\n",
    "inputs = [1, 2, 3]\n",
    "weights = [0.2, 0.9, -0.5]\n",
    "bias = 3.3\n",
    "\n",
    "# Output is the sum of weighted sum of inputs & bias\n",
    "output = inputs[0]*weights[0] + inputs[1]*weights[1] + inputs[2]*weights[2] + bias\n",
    "print(output)"
   ]
  },
  {
   "cell_type": "markdown",
   "id": "e4bd21b7",
   "metadata": {},
   "source": [
    "## A Layer of Neurons"
   ]
  },
  {
   "cell_type": "code",
   "execution_count": 2,
   "id": "135729cf",
   "metadata": {},
   "outputs": [
    {
     "name": "stdout",
     "output_type": "stream",
     "text": [
      "[4.8, 1.21, 2.385]\n"
     ]
    }
   ],
   "source": [
    "# A Layer of 3 neurons with 4 inputs\n",
    "# Each neuron has a set of weights associated with the set of inputs & one bias\n",
    "inputs = [1, 2, 3, 2.5]\n",
    "\n",
    "weights1 = [0.2, 0.8, -0.5, 1]\n",
    "weights2 = [0.5, -0.91, 0.26, -0.5]\n",
    "weights3 = [-0.26, -0.27, 0.17, 0.87]\n",
    "\n",
    "bias1 = 2\n",
    "bias2 = 3\n",
    "bias3 = 0.5\n",
    "\n",
    "outputs = [\n",
    "    # Neuron 1:\n",
    "    inputs[0]*weights1[0] +\n",
    "    inputs[1]*weights1[1] +\n",
    "    inputs[2]*weights1[2] +\n",
    "    inputs[3]*weights1[3] + bias1,\n",
    "    \n",
    "    # Neuron 2:\n",
    "    inputs[0]*weights2[0] +\n",
    "    inputs[1]*weights2[1] +\n",
    "    inputs[2]*weights2[2] +\n",
    "    inputs[3]*weights2[3] + bias2,\n",
    "    \n",
    "    # Neuron 3:\n",
    "    inputs[0]*weights3[0] +\n",
    "    inputs[1]*weights3[1] +\n",
    "    inputs[2]*weights3[2] +\n",
    "    inputs[3]*weights3[3] + bias3,\n",
    "]\n",
    "\n",
    "print(outputs)"
   ]
  },
  {
   "cell_type": "code",
   "execution_count": 3,
   "id": "26e352db",
   "metadata": {},
   "outputs": [
    {
     "name": "stdout",
     "output_type": "stream",
     "text": [
      "[4.8, 1.21, 2.385]\n"
     ]
    }
   ],
   "source": [
    "# A Layer of 3 neurons with 4 inputs\n",
    "# Each neuron has a set of weights associated with the set of inputs & one bias\n",
    "# Changed the code to use loops instead of hardcoded operations\n",
    "inputs = [1, 2, 3, 2.5]\n",
    "weights = [\n",
    "    [0.2, 0.8, -0.5, 1],\n",
    "    [0.5, -0.91, 0.26, -0.5],\n",
    "    [-0.26, -0.27, 0.17, 0.87],\n",
    "]\n",
    "biases = [2, 3, 0.5]\n",
    "\n",
    "layer_outputs = []\n",
    "\n",
    "for neuron_weights, neuron_bias in zip(weights, biases):\n",
    "    neuron_output = 0\n",
    "    # Add weighted inputs\n",
    "    for input_, weight in zip(inputs, neuron_weights):\n",
    "        neuron_output += input_ * weight\n",
    "    # Add bias\n",
    "    neuron_output += neuron_bias\n",
    "    layer_outputs.append(neuron_output)\n",
    "    \n",
    "print(layer_outputs)"
   ]
  },
  {
   "cell_type": "markdown",
   "id": "11dd4b84",
   "metadata": {},
   "source": [
    "## Tensors, Arrays and Vectors"
   ]
  },
  {
   "cell_type": "code",
   "execution_count": 4,
   "id": "1d5c59bb",
   "metadata": {},
   "outputs": [
    {
     "name": "stdout",
     "output_type": "stream",
     "text": [
      "Shape of l: (4,)\n"
     ]
    }
   ],
   "source": [
    "import numpy as np\n",
    "\n",
    "# list\n",
    "# type = 1D Array, Vector\n",
    "l = [1, 5, 6, 2]\n",
    "print(f\"Shape of l: {np.shape(l)}\")"
   ]
  },
  {
   "cell_type": "code",
   "execution_count": 5,
   "id": "6f490d73",
   "metadata": {},
   "outputs": [
    {
     "name": "stdout",
     "output_type": "stream",
     "text": [
      "Shape of lol: (2, 4)\n"
     ]
    }
   ],
   "source": [
    "# list of lists\n",
    "# type = 2D Array, Matrix\n",
    "lol = [[1, 5, 6, 2],\n",
    "       [3, 2, 1, 3]]\n",
    "print(f\"Shape of lol: {np.shape(lol)}\")"
   ]
  },
  {
   "cell_type": "code",
   "execution_count": 6,
   "id": "bb719012",
   "metadata": {},
   "outputs": [
    {
     "name": "stdout",
     "output_type": "stream",
     "text": [
      "Shape of lolol: (3, 2, 4)\n"
     ]
    }
   ],
   "source": [
    "# list of list of lists\n",
    "# type = 3D Array\n",
    "lolol = [[[1, 5, 6, 2],\n",
    "          [3, 2, 1, 3]],\n",
    "         [[5, 2, 1, 2],\n",
    "          [6, 4, 8, 4]],\n",
    "         [[2, 8, 5, 3],\n",
    "          [1, 1, 9, 4]]\n",
    "        ]\n",
    "print(f\"Shape of lolol: {np.shape(lolol)}\")"
   ]
  }
 ],
 "metadata": {
  "kernelspec": {
   "display_name": "dlfw_env38",
   "language": "python",
   "name": "dlfw_env38"
  },
  "language_info": {
   "codemirror_mode": {
    "name": "ipython",
    "version": 3
   },
   "file_extension": ".py",
   "mimetype": "text/x-python",
   "name": "python",
   "nbconvert_exporter": "python",
   "pygments_lexer": "ipython3",
   "version": "3.8.10"
  }
 },
 "nbformat": 4,
 "nbformat_minor": 5
}
