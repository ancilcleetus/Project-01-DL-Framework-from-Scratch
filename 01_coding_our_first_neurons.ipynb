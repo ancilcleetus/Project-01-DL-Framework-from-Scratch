{
 "cells": [
  {
   "cell_type": "markdown",
   "id": "ceac75ab",
   "metadata": {},
   "source": [
    "## A Single Neuron"
   ]
  },
  {
   "cell_type": "code",
   "execution_count": 1,
   "id": "b61be621",
   "metadata": {},
   "outputs": [
    {
     "name": "stdout",
     "output_type": "stream",
     "text": [
      "3.8\n"
     ]
    }
   ],
   "source": [
    "# A single neuron with 3 inputs\n",
    "# For each input, there is an associated weight\n",
    "# For each neuron, there is one bias\n",
    "inputs = [1, 2, 3]\n",
    "weights = [0.2, 0.9, -0.5]\n",
    "bias = 3.3\n",
    "\n",
    "# Output is the sum of weighted sum of inputs & bias\n",
    "output = inputs[0]*weights[0] + inputs[1]*weights[1] + inputs[2]*weights[2] + bias\n",
    "print(output)"
   ]
  }
 ],
 "metadata": {
  "kernelspec": {
   "display_name": "dlfw_env38",
   "language": "python",
   "name": "dlfw_env38"
  },
  "language_info": {
   "codemirror_mode": {
    "name": "ipython",
    "version": 3
   },
   "file_extension": ".py",
   "mimetype": "text/x-python",
   "name": "python",
   "nbconvert_exporter": "python",
   "pygments_lexer": "ipython3",
   "version": "3.8.10"
  }
 },
 "nbformat": 4,
 "nbformat_minor": 5
}
